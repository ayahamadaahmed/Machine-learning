{
 "cells": [
  {
   "cell_type": "code",
   "execution_count": 1,
   "id": "7484799e",
   "metadata": {},
   "outputs": [
    {
     "name": "stdout",
     "output_type": "stream",
     "text": [
      "Hello, Aya\n"
     ]
    }
   ],
   "source": [
    "name = input (\"Enter your Name please:  \")\n",
    "print(f\"Hello, {name}\")"
   ]
  },
  {
   "cell_type": "code",
   "execution_count": 3,
   "id": "f47c1623",
   "metadata": {},
   "outputs": [
    {
     "name": "stdout",
     "output_type": "stream",
     "text": [
      "you are 21 years old\n"
     ]
    }
   ],
   "source": [
    "Age = input (\"Please, Enter your birth year: \")\n",
    "cal =  2025 - int(Age)\n",
    "print(f\"you are {cal} years old\")"
   ]
  },
  {
   "cell_type": "code",
   "execution_count": 4,
   "id": "b86324ce",
   "metadata": {},
   "outputs": [
    {
     "name": "stdout",
     "output_type": "stream",
     "text": [
      "My favorite number is also 10!\n"
     ]
    }
   ],
   "source": [
    "Number = input(\"Enter your favourite number: \")\n",
    "print(f\"My favorite number is also {Number}!\")"
   ]
  },
  {
   "cell_type": "code",
   "execution_count": 8,
   "id": "ab728e72",
   "metadata": {},
   "outputs": [
    {
     "name": "stdout",
     "output_type": "stream",
     "text": [
      "Width = 3, Length = 4\n",
      "Area = 12\n"
     ]
    }
   ],
   "source": [
    "user = input(\"Enter width and length separated by space: \\n\")\n",
    "width, length = map(int, user.split())\n",
    "print(f\"Width = {width}, Length = {length}\")\n",
    "area = width * length\n",
    "print(f\"Area = {area}\")"
   ]
  },
  {
   "cell_type": "code",
   "execution_count": 16,
   "id": "ed0131c0",
   "metadata": {},
   "outputs": [
    {
     "name": "stdout",
     "output_type": "stream",
     "text": [
      "name1 is Aya,\n",
      " name2 is Ahmed \n",
      "\n",
      "Hello Aya and Ahmed !\n"
     ]
    }
   ],
   "source": [
    "names = input(\"Enter two names: \")\n",
    "name1, name2 = map(str, names.split())\n",
    "print(f\"name1 is {name1},\\n name2 is {name2} \\n\")\n",
    "print (f\"Hello {name1} and {name2} !\")\n"
   ]
  },
  {
   "cell_type": "code",
   "execution_count": 27,
   "id": "02445782",
   "metadata": {},
   "outputs": [
    {
     "name": "stdout",
     "output_type": "stream",
     "text": [
      "A\n",
      "a\n",
      "first_char = A\n",
      "last_char = a\n"
     ]
    }
   ],
   "source": [
    "print(name1[slice(0,1)])\n",
    "print(name1[slice(-1, None)])\n",
    "\n",
    "\n",
    "first_char = name1[0]\n",
    "last_char = name1[-1]\n",
    "print(f\"first_char = {first_char}\")\n",
    "print(f\"last_char = {last_char}\")"
   ]
  },
  {
   "cell_type": "code",
   "execution_count": 2,
   "id": "49b00f33",
   "metadata": {},
   "outputs": [
    {
     "name": "stdout",
     "output_type": "stream",
     "text": [
      "Number of Vowels: 3\n"
     ]
    }
   ],
   "source": [
    "text = input(\"Enter word: \")\n",
    "vowels = \"aeiouAEIOU\"\n",
    "count = 0\n",
    "\n",
    "for char in text:\n",
    "    if char in vowels:\n",
    "        count += 1\n",
    "\n",
    "print(f\"Number of Vowels: {count}\")\n"
   ]
  },
  {
   "cell_type": "code",
   "execution_count": 3,
   "id": "288a746b",
   "metadata": {},
   "outputs": [
    {
     "name": "stdout",
     "output_type": "stream",
     "text": [
      "Reversed sentence: Aya\n"
     ]
    }
   ],
   "source": [
    "sententance = input (\"Enter words: \")\n",
    "words = sententance.split()\n",
    "\n",
    "reversed_words = words[::-1]        \n",
    "reversed_sentence = \" \".join(reversed_words) \n",
    "\n",
    "print(\"Reversed sentence:\", reversed_sentence)"
   ]
  },
  {
   "cell_type": "code",
   "execution_count": 4,
   "id": "4231807d",
   "metadata": {},
   "outputs": [
    {
     "name": "stdout",
     "output_type": "stream",
     "text": [
      "Pig Latin: elloHay\n"
     ]
    }
   ],
   "source": [
    "word = input(\"Enter a word: \")\n",
    "\n",
    "vowels = \"aeiouAEIOU\"\n",
    "\n",
    "if word[0] in vowels:\n",
    "    pig_latin = word + \"ay\"\n",
    "else:\n",
    "    pig_latin = word[1:] + word[0] + \"ay\"\n",
    "\n",
    "print(\"Pig Latin:\", pig_latin)\n"
   ]
  },
  {
   "cell_type": "code",
   "execution_count": 6,
   "id": "dc7d2024",
   "metadata": {},
   "outputs": [
    {
     "name": "stdout",
     "output_type": "stream",
     "text": [
      "Reversed (loop): [5, 4, 3, 2, 1]\n"
     ]
    }
   ],
   "source": [
    "original = [1, 2, 3, 4, 5]\n",
    "reversed_list = []\n",
    "\n",
    "for i in range(len(original)-1, -1, -1):\n",
    "    reversed_list.append(original[i])\n",
    "\n",
    "print(\"Reversed (loop):\", reversed_list)\n"
   ]
  },
  {
   "cell_type": "code",
   "execution_count": 7,
   "id": "ea83cca3",
   "metadata": {},
   "outputs": [
    {
     "name": "stdout",
     "output_type": "stream",
     "text": [
      "Reversed (slicing): [5, 4, 3, 2, 1]\n"
     ]
    }
   ],
   "source": [
    "original = [1, 2, 3, 4, 5]\n",
    "reversed_list = original[::-1]\n",
    "print(\"Reversed (slicing):\", reversed_list)\n"
   ]
  },
  {
   "cell_type": "code",
   "execution_count": 8,
   "id": "288d9772",
   "metadata": {},
   "outputs": [
    {
     "name": "stdout",
     "output_type": "stream",
     "text": [
      "List without duplicates: [1, 2, 3, 4, 5]\n"
     ]
    }
   ],
   "source": [
    "my_list = [1, 2, 2, 3, 4, 4, 5]\n",
    "no_duplicates = []\n",
    "\n",
    "for item in my_list:\n",
    "    if item not in no_duplicates:\n",
    "        no_duplicates.append(item)\n",
    "\n",
    "print(\"List without duplicates:\", no_duplicates)\n"
   ]
  },
  {
   "cell_type": "code",
   "execution_count": 9,
   "id": "7bd3ad57",
   "metadata": {},
   "outputs": [
    {
     "name": "stdout",
     "output_type": "stream",
     "text": [
      "Combined list: [1, 2, 3, 4, 5, 6]\n"
     ]
    }
   ],
   "source": [
    "list1 = [1, 2, 3]\n",
    "list2 = [4, 5, 6]\n",
    "\n",
    "combined = list1 + list2\n",
    "print(\"Combined list:\", combined)\n"
   ]
  },
  {
   "cell_type": "code",
   "execution_count": 10,
   "id": "5b67d322",
   "metadata": {},
   "outputs": [
    {
     "name": "stdout",
     "output_type": "stream",
     "text": [
      "Index: 3\n"
     ]
    }
   ],
   "source": [
    "my_list = [10, 20, 30, 40, 50]\n",
    "element = int(input(\"Enter element to find: \"))\n",
    "\n",
    "if element in my_list:\n",
    "    index = my_list.index(element)\n",
    "else:\n",
    "    index = -1\n",
    "\n",
    "print(\"Index:\", index)\n"
   ]
  },
  {
   "cell_type": "code",
   "execution_count": 11,
   "id": "923b4de4",
   "metadata": {},
   "outputs": [],
   "source": [
    "from collections import Counter\n",
    "def Caluclate(numbers):\n",
    "    mean = sum(numbers) / len(numbers)\n",
    "    sorted_nums = sorted(numbers)\n",
    "    n = len(sorted_nums)\n",
    "    if n % 2 == 0:\n",
    "        median = (sorted_nums[n//2 - 1] + sorted_nums[n//2]) / 2\n",
    "    else:\n",
    "        median = sorted_nums[n//2]\n",
    "    count = Counter(sorted_nums)\n",
    "    max_freq = max(count.values())\n",
    "    mode = [num for num, freq in count.items() if freq == max_freq]\n",
    "\n",
    "    if len(mode) == len(numbers):\n",
    "        mode = None  # No mode if all elements occur only once\n",
    "\n",
    "    return mean, median, mode"
   ]
  },
  {
   "cell_type": "code",
   "execution_count": 12,
   "id": "e723e1be",
   "metadata": {},
   "outputs": [
    {
     "name": "stdout",
     "output_type": "stream",
     "text": [
      "Mean: 3.142857142857143\n",
      "Median: 3\n",
      "Mode: [2, 5]\n"
     ]
    }
   ],
   "source": [
    "data = [1, 2, 2, 3, 4, 5, 5]\n",
    "mean, median, mode = Caluclate(data)\n",
    "\n",
    "print(f\"Mean: {mean}\")\n",
    "print(f\"Median: {median}\")\n",
    "print(f\"Mode: {mode}\")"
   ]
  },
  {
   "cell_type": "code",
   "execution_count": 13,
   "id": "84729d3b",
   "metadata": {},
   "outputs": [],
   "source": [
    "import string\n",
    "\n",
    "def check_password_strength(password):\n",
    "    special = string.punctuation\n",
    "    has_upper = any(c.isupper() for c in password)\n",
    "    has_lower = any(c.islower() for c in password)\n",
    "    has_digit = any(c.isdigit() for c in password)\n",
    "    has_special = any(c in special for c in password)\n",
    "\n",
    "    length_ok = len(password) >= 8\n",
    "\n",
    "    if all([length_ok, has_upper, has_lower, has_digit, has_special]):\n",
    "        return \"Strong\"\n",
    "    elif length_ok and (has_upper or has_lower) and (has_digit or has_special):\n",
    "        return \"Medium\"\n",
    "    else:\n",
    "        return \"Weak\"\n"
   ]
  },
  {
   "cell_type": "code",
   "execution_count": 14,
   "id": "b8222f79",
   "metadata": {},
   "outputs": [],
   "source": [
    "def count_words_starting_with_vowel(word_list):\n",
    "    vowels = \"aeiouAEIOU\"\n",
    "    count = sum(1 for word in word_list if word and word[0] in vowels)\n",
    "    return count\n"
   ]
  },
  {
   "cell_type": "code",
   "execution_count": 15,
   "id": "5e077aad",
   "metadata": {},
   "outputs": [],
   "source": [
    "def list_intersection(list1, list2):\n",
    "    return list(set(list1) & set(list2))\n"
   ]
  },
  {
   "cell_type": "code",
   "execution_count": 16,
   "id": "1c788a16",
   "metadata": {},
   "outputs": [],
   "source": [
    "import random\n",
    "import string\n",
    "\n",
    "def generate_password(length=12):\n",
    "    if length < 6:\n",
    "        return \"Password too short. Use 6+ characters.\"\n",
    "\n",
    "    all_chars = string.ascii_letters + string.digits + string.punctuation\n",
    "    password = ''.join(random.choices(all_chars, k=length))\n",
    "    return password\n"
   ]
  },
  {
   "cell_type": "code",
   "execution_count": 17,
   "id": "9d1227b0",
   "metadata": {},
   "outputs": [
    {
     "name": "stdout",
     "output_type": "stream",
     "text": [
      "Strong\n",
      "2\n",
      "[2, 3]\n",
      "e%Y%QFI%MR\n"
     ]
    }
   ],
   "source": [
    "# Password Strength\n",
    "print(check_password_strength(\"Abc@1234\"))  # Strong\n",
    "\n",
    "# Vowel Word Counter\n",
    "print(count_words_starting_with_vowel([\"apple\", \"banana\", \"orange\", \"grape\"]))  # 2\n",
    "\n",
    "# List Intersection\n",
    "print(list_intersection([1, 2, 3], [2, 3, 4]))  # [2, 3]\n",
    "\n",
    "# Random Password\n",
    "print(generate_password(10))  # e.g., '@Lk9!m4%T2'\n"
   ]
  },
  {
   "cell_type": "code",
   "execution_count": null,
   "id": "ed0a498a",
   "metadata": {},
   "outputs": [],
   "source": []
  }
 ],
 "metadata": {
  "kernelspec": {
   "display_name": "Python 3",
   "language": "python",
   "name": "python3"
  },
  "language_info": {
   "codemirror_mode": {
    "name": "ipython",
    "version": 3
   },
   "file_extension": ".py",
   "mimetype": "text/x-python",
   "name": "python",
   "nbconvert_exporter": "python",
   "pygments_lexer": "ipython3",
   "version": "3.13.2"
  }
 },
 "nbformat": 4,
 "nbformat_minor": 5
}
