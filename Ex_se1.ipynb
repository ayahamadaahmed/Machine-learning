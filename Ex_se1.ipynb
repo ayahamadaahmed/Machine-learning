{
 "cells": [
  {
   "cell_type": "code",
   "execution_count": 1,
   "id": "bfc86197",
   "metadata": {},
   "outputs": [
    {
     "name": "stdout",
     "output_type": "stream",
     "text": [
      "hello world\n"
     ]
    }
   ],
   "source": [
    "print(\"hello world\")"
   ]
  },
  {
   "cell_type": "code",
   "execution_count": 5,
   "id": "273068fb",
   "metadata": {},
   "outputs": [
    {
     "name": "stdout",
     "output_type": "stream",
     "text": [
      "My name is Aya Hamada,My Birth date is 3 May 2004\n",
      "I study in Helwan National University Faculty of Intelligent System Engineering\n",
      "Aya\n",
      "Hamada\n"
     ]
    }
   ],
   "source": [
    "print(\"My name is Aya Hamada\",end = \",\")\n",
    "print(\"My Birth date is 3 May 2004\")\n",
    "print(\"I study in Helwan National University Faculty of Intelligent System Engineering\")\n",
    "print (\"Aya\\n\"\"Hamada\")"
   ]
  },
  {
   "cell_type": "code",
   "execution_count": 6,
   "id": "ec665488",
   "metadata": {},
   "outputs": [
    {
     "name": "stdout",
     "output_type": "stream",
     "text": [
      "1\n",
      "a\n",
      "4\n"
     ]
    }
   ],
   "source": [
    "x,y,z = 1 , 'a' , 4\n",
    "print(x)\n",
    "print(y)\n",
    "print(z)"
   ]
  },
  {
   "cell_type": "code",
   "execution_count": 18,
   "id": "8e225641",
   "metadata": {},
   "outputs": [
    {
     "name": "stdout",
     "output_type": "stream",
     "text": [
      "1 \n",
      " Ahmed \n",
      " 4\n",
      "True \n",
      " False\n"
     ]
    }
   ],
   "source": [
    "x = 1\n",
    "y = 'Ahmed'\n",
    "# print(x,\"\\n\",y)\n",
    "print(f\"{x} \\n {y} \\n {z}\")\n",
    "x = True\n",
    "y = False\n",
    "print(f\"{x} \\n {y}\")\n"
   ]
  },
  {
   "cell_type": "code",
   "execution_count": 24,
   "id": "741175b1",
   "metadata": {},
   "outputs": [
    {
     "name": "stdout",
     "output_type": "stream",
     "text": [
      " Welcome Aya\n"
     ]
    }
   ],
   "source": [
    "x = input(\"please input your Name\")\n",
    "print(f\" Welcome {x}\")"
   ]
  },
  {
   "cell_type": "code",
   "execution_count": 26,
   "id": "5e48be57",
   "metadata": {},
   "outputs": [
    {
     "name": "stdout",
     "output_type": "stream",
     "text": [
      "4\n",
      "4.0\n"
     ]
    }
   ],
   "source": [
    "x = 4\n",
    "y = str(x)\n",
    "print(y)\n",
    "z = float(x)\n",
    "print(z)"
   ]
  },
  {
   "cell_type": "code",
   "execution_count": 32,
   "id": "b6d13736",
   "metadata": {},
   "outputs": [
    {
     "name": "stdout",
     "output_type": "stream",
     "text": [
      "you are 21 years old\n"
     ]
    }
   ],
   "source": [
    "x = input(\"please enter your birthdate year: \")\n",
    "y = 2025 - int(x)\n",
    "print(f\"you are {y} years old\")"
   ]
  },
  {
   "cell_type": "code",
   "execution_count": 34,
   "id": "1e8afb4f",
   "metadata": {},
   "outputs": [
    {
     "name": "stdout",
     "output_type": "stream",
     "text": [
      "Hello\n",
      "hello\n"
     ]
    }
   ],
   "source": [
    "a = 'Hello'\n",
    "b = \"hello\"\n",
    "print(a)\n",
    "print(b)"
   ]
  },
  {
   "cell_type": "code",
   "execution_count": 35,
   "id": "84b71b81",
   "metadata": {},
   "outputs": [],
   "source": [
    "def func():\n",
    "    print (\"Ahmed\")"
   ]
  },
  {
   "cell_type": "code",
   "execution_count": 36,
   "id": "b4a3a374",
   "metadata": {},
   "outputs": [
    {
     "name": "stdout",
     "output_type": "stream",
     "text": [
      "Ahmed\n"
     ]
    }
   ],
   "source": [
    "func()"
   ]
  },
  {
   "cell_type": "code",
   "execution_count": 37,
   "id": "2eac8a1d",
   "metadata": {},
   "outputs": [],
   "source": [
    "def func2(name):\n",
    "    print(f\"Welcome, {name}\")"
   ]
  },
  {
   "cell_type": "code",
   "execution_count": 38,
   "id": "abfa8169",
   "metadata": {},
   "outputs": [
    {
     "name": "stdout",
     "output_type": "stream",
     "text": [
      "Welcome, Aya\n"
     ]
    }
   ],
   "source": [
    "func2(\"Aya\")"
   ]
  },
  {
   "cell_type": "code",
   "execution_count": 54,
   "id": "5226c4fe",
   "metadata": {},
   "outputs": [],
   "source": [
    "def Square (x):\n",
    "    return x**2"
   ]
  },
  {
   "cell_type": "code",
   "execution_count": 56,
   "id": "cf8cccc0",
   "metadata": {},
   "outputs": [
    {
     "name": "stdout",
     "output_type": "stream",
     "text": [
      "Square = 25\n"
     ]
    }
   ],
   "source": [
    "print(f\"Square = {Square(5)}\")"
   ]
  },
  {
   "cell_type": "code",
   "execution_count": 58,
   "id": "6f4590bd",
   "metadata": {},
   "outputs": [
    {
     "name": "stdout",
     "output_type": "stream",
     "text": [
      "Reversed sentence: world Hello\n"
     ]
    }
   ],
   "source": [
    "sententance = input (\"Enter words: \")\n",
    "words = sententance.split()\n",
    "\n",
    "reversed_words = words[::-1]        \n",
    "reversed_sentence = \" \".join(reversed_words) \n",
    "\n",
    "print(\"Reversed sentence:\", reversed_sentence)"
   ]
  },
  {
   "cell_type": "code",
   "execution_count": 60,
   "id": "483509e6",
   "metadata": {},
   "outputs": [
    {
     "name": "stdout",
     "output_type": "stream",
     "text": [
      "Pig Latin: ellohay\n"
     ]
    }
   ],
   "source": [
    "word = input(\"Enter a word: \")\n",
    "\n",
    "vowels = \"aeiouAEIOU\"\n",
    "\n",
    "if word[0] in vowels:\n",
    "    pig_latin = word + \"ay\"\n",
    "else:\n",
    "    pig_latin = word[1:] + word[0] + \"ay\"\n",
    "\n",
    "print(\"Pig Latin:\", pig_latin)\n"
   ]
  },
  {
   "cell_type": "code",
   "execution_count": 61,
   "id": "ddefa4f9",
   "metadata": {},
   "outputs": [
    {
     "name": "stdout",
     "output_type": "stream",
     "text": [
      "Reversed (loop): [5, 4, 3, 2, 1]\n"
     ]
    }
   ],
   "source": [
    "original = [1, 2, 3, 4, 5]\n",
    "reversed_list = []\n",
    "\n",
    "for i in range(len(original)-1, -1, -1):\n",
    "    reversed_list.append(original[i])\n",
    "\n",
    "print(\"Reversed (loop):\", reversed_list)\n"
   ]
  },
  {
   "cell_type": "code",
   "execution_count": 62,
   "id": "8268e880",
   "metadata": {},
   "outputs": [
    {
     "name": "stdout",
     "output_type": "stream",
     "text": [
      "Reversed (slicing): [5, 4, 3, 2, 1]\n"
     ]
    }
   ],
   "source": [
    "original = [1, 2, 3, 4, 5]\n",
    "reversed_list = original[::-1]\n",
    "print(\"Reversed (slicing):\", reversed_list)\n"
   ]
  },
  {
   "cell_type": "code",
   "execution_count": 63,
   "id": "da70966b",
   "metadata": {},
   "outputs": [
    {
     "name": "stdout",
     "output_type": "stream",
     "text": [
      "List without duplicates: [1, 2, 3, 4, 5]\n"
     ]
    }
   ],
   "source": [
    "my_list = [1, 2, 2, 3, 4, 4, 5]\n",
    "no_duplicates = []\n",
    "\n",
    "for item in my_list:\n",
    "    if item not in no_duplicates:\n",
    "        no_duplicates.append(item)\n",
    "\n",
    "print(\"List without duplicates:\", no_duplicates)\n"
   ]
  },
  {
   "cell_type": "code",
   "execution_count": 64,
   "id": "4d484469",
   "metadata": {},
   "outputs": [
    {
     "name": "stdout",
     "output_type": "stream",
     "text": [
      "Combined list: [1, 2, 3, 4, 5, 6]\n"
     ]
    }
   ],
   "source": [
    "list1 = [1, 2, 3]\n",
    "list2 = [4, 5, 6]\n",
    "\n",
    "combined = list1 + list2\n",
    "print(\"Combined list:\", combined)\n"
   ]
  },
  {
   "cell_type": "code",
   "execution_count": 67,
   "id": "4fb85bbc",
   "metadata": {},
   "outputs": [
    {
     "name": "stdout",
     "output_type": "stream",
     "text": [
      "Index: 4\n"
     ]
    }
   ],
   "source": [
    "my_list = [10, 20, 30, 40, 50]\n",
    "element = int(input(\"Enter element to find: \"))\n",
    "\n",
    "if element in my_list:\n",
    "    index = my_list.index(element)\n",
    "else:\n",
    "    index = -1\n",
    "\n",
    "print(\"Index:\", index)\n"
   ]
  },
  {
   "cell_type": "code",
   "execution_count": 77,
   "id": "30ec7bee",
   "metadata": {},
   "outputs": [],
   "source": [
    "from collections import Counter\n",
    "def Caluclate(numbers):\n",
    "    mean = sum(numbers) / len(numbers)\n",
    "    sorted_nums = sorted(numbers)\n",
    "    n = len(sorted_nums)\n",
    "    if n % 2 == 0:\n",
    "        median = (sorted_nums[n//2 - 1] + sorted_nums[n//2]) / 2\n",
    "    else:\n",
    "        median = sorted_nums[n//2]\n",
    "    count = Counter(sorted_nums)\n",
    "    max_freq = max(count.values())\n",
    "    mode = [num for num, freq in count.items() if freq == max_freq]\n",
    "\n",
    "    if len(mode) == len(numbers):\n",
    "        mode = None  # No mode if all elements occur only once\n",
    "\n",
    "    return mean, median, mode"
   ]
  },
  {
   "cell_type": "code",
   "execution_count": 78,
   "id": "ad22eacf",
   "metadata": {},
   "outputs": [
    {
     "name": "stdout",
     "output_type": "stream",
     "text": [
      "Mean: 3.142857142857143\n",
      "Median: 3\n",
      "Mode: [2, 5]\n"
     ]
    }
   ],
   "source": [
    "data = [1, 2, 2, 3, 4, 5, 5]\n",
    "mean, median, mode = Caluclate(data)\n",
    "\n",
    "print(f\"Mean: {mean}\")\n",
    "print(f\"Median: {median}\")\n",
    "print(f\"Mode: {mode}\")"
   ]
  },
  {
   "cell_type": "code",
   "execution_count": 79,
   "id": "5878d893",
   "metadata": {},
   "outputs": [],
   "source": [
    "import string\n",
    "\n",
    "def check_password_strength(password):\n",
    "    special = string.punctuation\n",
    "    has_upper = any(c.isupper() for c in password)\n",
    "    has_lower = any(c.islower() for c in password)\n",
    "    has_digit = any(c.isdigit() for c in password)\n",
    "    has_special = any(c in special for c in password)\n",
    "\n",
    "    length_ok = len(password) >= 8\n",
    "\n",
    "    if all([length_ok, has_upper, has_lower, has_digit, has_special]):\n",
    "        return \"Strong\"\n",
    "    elif length_ok and (has_upper or has_lower) and (has_digit or has_special):\n",
    "        return \"Medium\"\n",
    "    else:\n",
    "        return \"Weak\"\n"
   ]
  },
  {
   "cell_type": "code",
   "execution_count": 80,
   "id": "0a1dfa51",
   "metadata": {},
   "outputs": [],
   "source": [
    "def count_words_starting_with_vowel(word_list):\n",
    "    vowels = \"aeiouAEIOU\"\n",
    "    count = sum(1 for word in word_list if word and word[0] in vowels)\n",
    "    return count\n"
   ]
  },
  {
   "cell_type": "code",
   "execution_count": 83,
   "id": "833cd8bc",
   "metadata": {},
   "outputs": [],
   "source": [
    "def list_intersection(list1, list2):\n",
    "    return list(set(list1) & set(list2))\n"
   ]
  },
  {
   "cell_type": "code",
   "execution_count": 81,
   "id": "f475bc4d",
   "metadata": {},
   "outputs": [],
   "source": [
    "import random\n",
    "import string\n",
    "\n",
    "def generate_password(length=12):\n",
    "    if length < 6:\n",
    "        return \"Password too short. Use 6+ characters.\"\n",
    "\n",
    "    all_chars = string.ascii_letters + string.digits + string.punctuation\n",
    "    password = ''.join(random.choices(all_chars, k=length))\n",
    "    return password\n"
   ]
  },
  {
   "cell_type": "code",
   "execution_count": 84,
   "id": "28fe564f",
   "metadata": {},
   "outputs": [
    {
     "name": "stdout",
     "output_type": "stream",
     "text": [
      "Strong\n",
      "2\n",
      "[2, 3]\n",
      "b/{O-O(>ki\n"
     ]
    }
   ],
   "source": [
    "# Password Strength\n",
    "print(check_password_strength(\"Abc@1234\"))  # Strong\n",
    "\n",
    "# Vowel Word Counter\n",
    "print(count_words_starting_with_vowel([\"apple\", \"banana\", \"orange\", \"grape\"]))  # 2\n",
    "\n",
    "# List Intersection\n",
    "print(list_intersection([1, 2, 3], [2, 3, 4]))  # [2, 3]\n",
    "\n",
    "# Random Password\n",
    "print(generate_password(10))  # e.g., '@Lk9!m4%T2'\n"
   ]
  },
  {
   "cell_type": "code",
   "execution_count": null,
   "id": "4a36a3bd",
   "metadata": {},
   "outputs": [],
   "source": []
  }
 ],
 "metadata": {
  "kernelspec": {
   "display_name": "Python 3",
   "language": "python",
   "name": "python3"
  },
  "language_info": {
   "codemirror_mode": {
    "name": "ipython",
    "version": 3
   },
   "file_extension": ".py",
   "mimetype": "text/x-python",
   "name": "python",
   "nbconvert_exporter": "python",
   "pygments_lexer": "ipython3",
   "version": "3.13.2"
  }
 },
 "nbformat": 4,
 "nbformat_minor": 5
}
