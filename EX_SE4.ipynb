{
 "cells": [
  {
   "cell_type": "code",
   "execution_count": 2,
   "id": "e730bae8",
   "metadata": {},
   "outputs": [
    {
     "name": "stdout",
     "output_type": "stream",
     "text": [
      "Original Matrix:\n",
      "[1, 2, 3]\n",
      "[4, 5, 6]\n",
      "[7, 8, 9]\n",
      "\n",
      "This is a square matrix.\n"
     ]
    }
   ],
   "source": [
    "matrix = [\n",
    "    [1, 2, 3],\n",
    "    [4, 5, 6],\n",
    "    [7, 8, 9]\n",
    "]\n",
    "\n",
    "print(\"Original Matrix:\")\n",
    "for row in matrix:\n",
    "    print(row)\n",
    "\n",
    "\n",
    "rows = len(matrix)\n",
    "cols = len(matrix[0])\n",
    "if rows == cols:\n",
    "    print(\"\\nThis is a square matrix.\")\n",
    "else:\n",
    "    print(\"\\nThis is NOT a square matrix.\")    "
   ]
  },
  {
   "cell_type": "code",
   "execution_count": null,
   "id": "7518ec17",
   "metadata": {},
   "outputs": [
    {
     "name": "stdout",
     "output_type": "stream",
     "text": [
      "Diagonal Matrix:\n",
      "[5 0 0]\n",
      "[0 8 0]\n",
      "[0 0 3]\n"
     ]
    }
   ],
   "source": [
    "import numpy as np\n",
    "diagonal_elements = [5, 8, 3]\n",
    "\n",
    "diagonal_matrix = np.diag(diagonal_elements)\n",
    "\n",
    "print(\"Diagonal Matrix:\")\n",
    "for row in diagonal_matrix:\n",
    "    print(row)\n",
    "    \n"
   ]
  },
  {
   "cell_type": "code",
   "execution_count": 8,
   "id": "85fd0577",
   "metadata": {},
   "outputs": [
    {
     "name": "stdout",
     "output_type": "stream",
     "text": [
      "Identity Matrix:\n",
      "[[1 0 0]\n",
      " [0 1 0]\n",
      " [0 0 1]]\n",
      "\n",
      "Lower Triangular Matrix:\n",
      "[[1 0 0]\n",
      " [4 5 0]\n",
      " [7 8 9]]\n",
      "\n",
      "Upper Triangular Matrix:\n",
      "[[1 2 3]\n",
      " [0 5 6]\n",
      " [0 0 9]]\n",
      "Original Matrix A:\n",
      "[[7 9 5]\n",
      " [4 1 2]\n",
      " [7 7 7]]\n",
      "\n",
      "Symmetric Matrix:\n",
      "[[7 6 6]\n",
      " [6 1 4]\n",
      " [6 4 7]]\n",
      "\n",
      "Is symmetric: True\n"
     ]
    }
   ],
   "source": [
    "identity_matrix = np.identity(3, dtype=int)\n",
    "print(\"Identity Matrix:\")\n",
    "print(identity_matrix)\n",
    "\n",
    "full_matrix = np.array([[1, 2, 3],\n",
    "                        [4, 5, 6],\n",
    "                        [7, 8, 9]])\n",
    "\n",
    "\n",
    "lower_triangle = np.tril(full_matrix)\n",
    "print(\"\\nLower Triangular Matrix:\")\n",
    "print(lower_triangle)\n",
    "\n",
    "upper_triangle = np.triu(full_matrix)\n",
    "print(\"\\nUpper Triangular Matrix:\")\n",
    "print(upper_triangle)\n",
    "\n",
    "\n",
    "A = np.random.randint(1, 10, size=(3, 3))\n",
    "symmetric_matrix = (A + A.T) // 2\n",
    "print(\"Original Matrix A:\")\n",
    "print(A)\n",
    "\n",
    "print(\"\\nSymmetric Matrix:\")\n",
    "print(symmetric_matrix)\n",
    "\n",
    "# Check if matrix equals its transpose\n",
    "is_symmetric = np.array_equal(symmetric_matrix, symmetric_matrix.T)\n",
    "print(\"\\nIs symmetric:\", is_symmetric)\n",
    "\n"
   ]
  },
  {
   "cell_type": "code",
   "execution_count": 11,
   "id": "48d0bfda",
   "metadata": {},
   "outputs": [
    {
     "name": "stdout",
     "output_type": "stream",
     "text": [
      "            0\n",
      "0  Department\n",
      "1          Hr\n",
      "2          IT\n"
     ]
    }
   ],
   "source": [
    "import pandas as pd\n",
    "df = pd.DataFrame({'Department',\"IT\" , \"Hr\"})\n",
    "print(df)"
   ]
  },
  {
   "cell_type": "code",
   "execution_count": 13,
   "id": "9bfb68d0",
   "metadata": {},
   "outputs": [
    {
     "data": {
      "text/html": [
       "<div>\n",
       "<style scoped>\n",
       "    .dataframe tbody tr th:only-of-type {\n",
       "        vertical-align: middle;\n",
       "    }\n",
       "\n",
       "    .dataframe tbody tr th {\n",
       "        vertical-align: top;\n",
       "    }\n",
       "\n",
       "    .dataframe thead th {\n",
       "        text-align: right;\n",
       "    }\n",
       "</style>\n",
       "<table border=\"1\" class=\"dataframe\">\n",
       "  <thead>\n",
       "    <tr style=\"text-align: right;\">\n",
       "      <th></th>\n",
       "      <th>ID</th>\n",
       "      <th>Name</th>\n",
       "      <th>Department</th>\n",
       "      <th>Age</th>\n",
       "      <th>Salary</th>\n",
       "      <th>Joining_Date</th>\n",
       "    </tr>\n",
       "  </thead>\n",
       "  <tbody>\n",
       "    <tr>\n",
       "      <th>0</th>\n",
       "      <td>1</td>\n",
       "      <td>John Doe</td>\n",
       "      <td>HR</td>\n",
       "      <td>28</td>\n",
       "      <td>50000</td>\n",
       "      <td>2020-05-21</td>\n",
       "    </tr>\n",
       "    <tr>\n",
       "      <th>1</th>\n",
       "      <td>2</td>\n",
       "      <td>Jane Smith</td>\n",
       "      <td>IT</td>\n",
       "      <td>34</td>\n",
       "      <td>75000</td>\n",
       "      <td>2019-06-12</td>\n",
       "    </tr>\n",
       "    <tr>\n",
       "      <th>2</th>\n",
       "      <td>3</td>\n",
       "      <td>Bob Johnson</td>\n",
       "      <td>Finance</td>\n",
       "      <td>45</td>\n",
       "      <td>85000</td>\n",
       "      <td>2018-07-15</td>\n",
       "    </tr>\n",
       "    <tr>\n",
       "      <th>3</th>\n",
       "      <td>4</td>\n",
       "      <td>Alice White</td>\n",
       "      <td>IT</td>\n",
       "      <td>29</td>\n",
       "      <td>72000</td>\n",
       "      <td>2021-01-04</td>\n",
       "    </tr>\n",
       "    <tr>\n",
       "      <th>4</th>\n",
       "      <td>5</td>\n",
       "      <td>Charlie Brown</td>\n",
       "      <td>Marketing</td>\n",
       "      <td>32</td>\n",
       "      <td>68000</td>\n",
       "      <td>2019-11-30</td>\n",
       "    </tr>\n",
       "    <tr>\n",
       "      <th>5</th>\n",
       "      <td>6</td>\n",
       "      <td>Eva Green</td>\n",
       "      <td>HR</td>\n",
       "      <td>41</td>\n",
       "      <td>54000</td>\n",
       "      <td>2017-04-22</td>\n",
       "    </tr>\n",
       "    <tr>\n",
       "      <th>6</th>\n",
       "      <td>7</td>\n",
       "      <td>Mike Davis</td>\n",
       "      <td>Finance</td>\n",
       "      <td>50</td>\n",
       "      <td>90000</td>\n",
       "      <td>2016-08-19</td>\n",
       "    </tr>\n",
       "    <tr>\n",
       "      <th>7</th>\n",
       "      <td>8</td>\n",
       "      <td>Linda Taylor</td>\n",
       "      <td>IT</td>\n",
       "      <td>26</td>\n",
       "      <td>64000</td>\n",
       "      <td>2022-02-10</td>\n",
       "    </tr>\n",
       "    <tr>\n",
       "      <th>8</th>\n",
       "      <td>9</td>\n",
       "      <td>James Wilson</td>\n",
       "      <td>Marketing</td>\n",
       "      <td>38</td>\n",
       "      <td>70000</td>\n",
       "      <td>2020-09-08</td>\n",
       "    </tr>\n",
       "    <tr>\n",
       "      <th>9</th>\n",
       "      <td>10</td>\n",
       "      <td>Sarah Adams</td>\n",
       "      <td>HR</td>\n",
       "      <td>30</td>\n",
       "      <td>55000</td>\n",
       "      <td>2021-03-18</td>\n",
       "    </tr>\n",
       "  </tbody>\n",
       "</table>\n",
       "</div>"
      ],
      "text/plain": [
       "   ID           Name Department  Age  Salary Joining_Date\n",
       "0   1       John Doe         HR   28   50000   2020-05-21\n",
       "1   2     Jane Smith         IT   34   75000   2019-06-12\n",
       "2   3    Bob Johnson    Finance   45   85000   2018-07-15\n",
       "3   4    Alice White         IT   29   72000   2021-01-04\n",
       "4   5  Charlie Brown  Marketing   32   68000   2019-11-30\n",
       "5   6      Eva Green         HR   41   54000   2017-04-22\n",
       "6   7     Mike Davis    Finance   50   90000   2016-08-19\n",
       "7   8   Linda Taylor         IT   26   64000   2022-02-10\n",
       "8   9   James Wilson  Marketing   38   70000   2020-09-08\n",
       "9  10    Sarah Adams         HR   30   55000   2021-03-18"
      ]
     },
     "execution_count": 13,
     "metadata": {},
     "output_type": "execute_result"
    }
   ],
   "source": [
    "df = pd.read_csv(r\"D:\\University\\IMT\\Python Codes\\employees.csv\")\n",
    "df"
   ]
  },
  {
   "cell_type": "code",
   "execution_count": 15,
   "id": "435a68c1",
   "metadata": {},
   "outputs": [
    {
     "name": "stdout",
     "output_type": "stream",
     "text": [
      "   ID           Name Department  Age  Salary Joining_Date\n",
      "0   1       John Doe         HR   28   50000   2020-05-21\n",
      "1   2     Jane Smith         IT   34   75000   2019-06-12\n",
      "2   3    Bob Johnson    Finance   45   85000   2018-07-15\n",
      "3   4    Alice White         IT   29   72000   2021-01-04\n",
      "4   5  Charlie Brown  Marketing   32   68000   2019-11-30\n"
     ]
    }
   ],
   "source": [
    "print(df.head())"
   ]
  },
  {
   "cell_type": "code",
   "execution_count": null,
   "id": "8a29adbc",
   "metadata": {},
   "outputs": [],
   "source": []
  },
  {
   "cell_type": "code",
   "execution_count": null,
   "id": "e5550d4b",
   "metadata": {},
   "outputs": [],
   "source": []
  }
 ],
 "metadata": {
  "kernelspec": {
   "display_name": "Python 3",
   "language": "python",
   "name": "python3"
  },
  "language_info": {
   "codemirror_mode": {
    "name": "ipython",
    "version": 3
   },
   "file_extension": ".py",
   "mimetype": "text/x-python",
   "name": "python",
   "nbconvert_exporter": "python",
   "pygments_lexer": "ipython3",
   "version": "3.13.2"
  }
 },
 "nbformat": 4,
 "nbformat_minor": 5
}
