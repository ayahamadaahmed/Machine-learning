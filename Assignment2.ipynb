{
 "cells": [
  {
   "cell_type": "code",
   "execution_count": 3,
   "id": "097e2de7",
   "metadata": {},
   "outputs": [
    {
     "data": {
      "text/html": [
       "<div>\n",
       "<style scoped>\n",
       "    .dataframe tbody tr th:only-of-type {\n",
       "        vertical-align: middle;\n",
       "    }\n",
       "\n",
       "    .dataframe tbody tr th {\n",
       "        vertical-align: top;\n",
       "    }\n",
       "\n",
       "    .dataframe thead th {\n",
       "        text-align: right;\n",
       "    }\n",
       "</style>\n",
       "<table border=\"1\" class=\"dataframe\">\n",
       "  <thead>\n",
       "    <tr style=\"text-align: right;\">\n",
       "      <th></th>\n",
       "      <th>ID</th>\n",
       "      <th>Name</th>\n",
       "      <th>Department</th>\n",
       "      <th>Age</th>\n",
       "      <th>Salary</th>\n",
       "      <th>Joining_Date</th>\n",
       "    </tr>\n",
       "  </thead>\n",
       "  <tbody>\n",
       "    <tr>\n",
       "      <th>0</th>\n",
       "      <td>1</td>\n",
       "      <td>John Doe</td>\n",
       "      <td>HR</td>\n",
       "      <td>28</td>\n",
       "      <td>50000</td>\n",
       "      <td>2020-05-21</td>\n",
       "    </tr>\n",
       "    <tr>\n",
       "      <th>1</th>\n",
       "      <td>2</td>\n",
       "      <td>Jane Smith</td>\n",
       "      <td>IT</td>\n",
       "      <td>34</td>\n",
       "      <td>75000</td>\n",
       "      <td>2019-06-12</td>\n",
       "    </tr>\n",
       "    <tr>\n",
       "      <th>2</th>\n",
       "      <td>3</td>\n",
       "      <td>Bob Johnson</td>\n",
       "      <td>Finance</td>\n",
       "      <td>45</td>\n",
       "      <td>85000</td>\n",
       "      <td>2018-07-15</td>\n",
       "    </tr>\n",
       "    <tr>\n",
       "      <th>3</th>\n",
       "      <td>4</td>\n",
       "      <td>Alice White</td>\n",
       "      <td>IT</td>\n",
       "      <td>29</td>\n",
       "      <td>72000</td>\n",
       "      <td>2021-01-04</td>\n",
       "    </tr>\n",
       "    <tr>\n",
       "      <th>4</th>\n",
       "      <td>5</td>\n",
       "      <td>Charlie Brown</td>\n",
       "      <td>Marketing</td>\n",
       "      <td>32</td>\n",
       "      <td>68000</td>\n",
       "      <td>2019-11-30</td>\n",
       "    </tr>\n",
       "    <tr>\n",
       "      <th>5</th>\n",
       "      <td>6</td>\n",
       "      <td>Eva Green</td>\n",
       "      <td>HR</td>\n",
       "      <td>41</td>\n",
       "      <td>54000</td>\n",
       "      <td>2017-04-22</td>\n",
       "    </tr>\n",
       "    <tr>\n",
       "      <th>6</th>\n",
       "      <td>7</td>\n",
       "      <td>Mike Davis</td>\n",
       "      <td>Finance</td>\n",
       "      <td>50</td>\n",
       "      <td>90000</td>\n",
       "      <td>2016-08-19</td>\n",
       "    </tr>\n",
       "    <tr>\n",
       "      <th>7</th>\n",
       "      <td>8</td>\n",
       "      <td>Linda Taylor</td>\n",
       "      <td>IT</td>\n",
       "      <td>26</td>\n",
       "      <td>64000</td>\n",
       "      <td>2022-02-10</td>\n",
       "    </tr>\n",
       "    <tr>\n",
       "      <th>8</th>\n",
       "      <td>9</td>\n",
       "      <td>James Wilson</td>\n",
       "      <td>Marketing</td>\n",
       "      <td>38</td>\n",
       "      <td>70000</td>\n",
       "      <td>2020-09-08</td>\n",
       "    </tr>\n",
       "    <tr>\n",
       "      <th>9</th>\n",
       "      <td>10</td>\n",
       "      <td>Sarah Adams</td>\n",
       "      <td>HR</td>\n",
       "      <td>30</td>\n",
       "      <td>55000</td>\n",
       "      <td>2021-03-18</td>\n",
       "    </tr>\n",
       "  </tbody>\n",
       "</table>\n",
       "</div>"
      ],
      "text/plain": [
       "   ID           Name Department  Age  Salary Joining_Date\n",
       "0   1       John Doe         HR   28   50000   2020-05-21\n",
       "1   2     Jane Smith         IT   34   75000   2019-06-12\n",
       "2   3    Bob Johnson    Finance   45   85000   2018-07-15\n",
       "3   4    Alice White         IT   29   72000   2021-01-04\n",
       "4   5  Charlie Brown  Marketing   32   68000   2019-11-30\n",
       "5   6      Eva Green         HR   41   54000   2017-04-22\n",
       "6   7     Mike Davis    Finance   50   90000   2016-08-19\n",
       "7   8   Linda Taylor         IT   26   64000   2022-02-10\n",
       "8   9   James Wilson  Marketing   38   70000   2020-09-08\n",
       "9  10    Sarah Adams         HR   30   55000   2021-03-18"
      ]
     },
     "execution_count": 3,
     "metadata": {},
     "output_type": "execute_result"
    }
   ],
   "source": [
    "import pandas as pd\n",
    "df = pd.read_csv(r\"D:\\University\\IMT\\Python Codes\\employees.csv\")\n",
    "df"
   ]
  },
  {
   "cell_type": "code",
   "execution_count": 4,
   "id": "50d4352f",
   "metadata": {},
   "outputs": [
    {
     "name": "stdout",
     "output_type": "stream",
     "text": [
      "   ID           Name Department  Age  Salary Joining_Date\n",
      "0   1       John Doe         HR   28   50000   2020-05-21\n",
      "1   2     Jane Smith         IT   34   75000   2019-06-12\n",
      "2   3    Bob Johnson    Finance   45   85000   2018-07-15\n",
      "3   4    Alice White         IT   29   72000   2021-01-04\n",
      "4   5  Charlie Brown  Marketing   32   68000   2019-11-30\n"
     ]
    }
   ],
   "source": [
    "print(df.head())"
   ]
  },
  {
   "cell_type": "code",
   "execution_count": 6,
   "id": "f40464d2",
   "metadata": {},
   "outputs": [
    {
     "name": "stdout",
     "output_type": "stream",
     "text": [
      "<class 'pandas.core.frame.DataFrame'>\n",
      "RangeIndex: 10 entries, 0 to 9\n",
      "Data columns (total 6 columns):\n",
      " #   Column        Non-Null Count  Dtype \n",
      "---  ------        --------------  ----- \n",
      " 0   ID            10 non-null     int64 \n",
      " 1   Name          10 non-null     object\n",
      " 2   Department    10 non-null     object\n",
      " 3   Age           10 non-null     int64 \n",
      " 4   Salary        10 non-null     int64 \n",
      " 5   Joining_Date  10 non-null     object\n",
      "dtypes: int64(3), object(3)\n",
      "memory usage: 612.0+ bytes\n",
      "None\n"
     ]
    }
   ],
   "source": [
    "print(df.info())"
   ]
  },
  {
   "cell_type": "code",
   "execution_count": 5,
   "id": "3fb3f17a",
   "metadata": {},
   "outputs": [
    {
     "name": "stdout",
     "output_type": "stream",
     "text": [
      "             ID        Age        Salary\n",
      "count  10.00000  10.000000     10.000000\n",
      "mean    5.50000  35.300000  68300.000000\n",
      "std     3.02765   7.958922  13106.826042\n",
      "min     1.00000  26.000000  50000.000000\n",
      "25%     3.25000  29.250000  57250.000000\n",
      "50%     5.50000  33.000000  69000.000000\n",
      "75%     7.75000  40.250000  74250.000000\n",
      "max    10.00000  50.000000  90000.000000\n"
     ]
    }
   ],
   "source": [
    "print(df.describe())"
   ]
  },
  {
   "cell_type": "code",
   "execution_count": 7,
   "id": "92ac2169",
   "metadata": {},
   "outputs": [],
   "source": [
    "employee = df[df['Department'] == 'IT']"
   ]
  },
  {
   "cell_type": "code",
   "execution_count": 8,
   "id": "2516e3df",
   "metadata": {},
   "outputs": [
    {
     "name": "stdout",
     "output_type": "stream",
     "text": [
      "   ID          Name Department  Age  Salary Joining_Date\n",
      "1   2    Jane Smith         IT   34   75000   2019-06-12\n",
      "3   4   Alice White         IT   29   72000   2021-01-04\n",
      "7   8  Linda Taylor         IT   26   64000   2022-02-10\n"
     ]
    }
   ],
   "source": [
    "print(employee)"
   ]
  },
  {
   "cell_type": "code",
   "execution_count": 9,
   "id": "84eb7b24",
   "metadata": {},
   "outputs": [],
   "source": [
    "count = df.groupby('Department').size()"
   ]
  },
  {
   "cell_type": "code",
   "execution_count": 10,
   "id": "5db0898c",
   "metadata": {},
   "outputs": [
    {
     "name": "stdout",
     "output_type": "stream",
     "text": [
      "Department\n",
      "Finance      2\n",
      "HR           3\n",
      "IT           3\n",
      "Marketing    2\n",
      "dtype: int64\n"
     ]
    }
   ],
   "source": [
    "print(count)"
   ]
  },
  {
   "cell_type": "code",
   "execution_count": 13,
   "id": "ec608802",
   "metadata": {},
   "outputs": [
    {
     "name": "stdout",
     "output_type": "stream",
     "text": [
      "Department\n",
      "Finance      87500.000000\n",
      "HR           53000.000000\n",
      "IT           70333.333333\n",
      "Marketing    69000.000000\n",
      "Name: Salary, dtype: float64\n"
     ]
    }
   ],
   "source": [
    "average_salary_by_department = df.groupby('Department')['Salary'].mean()\n",
    "\n",
    "print(average_salary_by_department)"
   ]
  },
  {
   "cell_type": "code",
   "execution_count": 17,
   "id": "ee272b1a",
   "metadata": {},
   "outputs": [],
   "source": [
    "df['Increased_Salary'] = df['Salary'] * 0.05 + df['Salary']\n"
   ]
  },
  {
   "cell_type": "code",
   "execution_count": 18,
   "id": "4624c0e2",
   "metadata": {},
   "outputs": [
    {
     "data": {
      "text/html": [
       "<div>\n",
       "<style scoped>\n",
       "    .dataframe tbody tr th:only-of-type {\n",
       "        vertical-align: middle;\n",
       "    }\n",
       "\n",
       "    .dataframe tbody tr th {\n",
       "        vertical-align: top;\n",
       "    }\n",
       "\n",
       "    .dataframe thead th {\n",
       "        text-align: right;\n",
       "    }\n",
       "</style>\n",
       "<table border=\"1\" class=\"dataframe\">\n",
       "  <thead>\n",
       "    <tr style=\"text-align: right;\">\n",
       "      <th></th>\n",
       "      <th>ID</th>\n",
       "      <th>Name</th>\n",
       "      <th>Department</th>\n",
       "      <th>Age</th>\n",
       "      <th>Salary</th>\n",
       "      <th>Joining_Date</th>\n",
       "      <th>Increased_Salary</th>\n",
       "    </tr>\n",
       "  </thead>\n",
       "  <tbody>\n",
       "    <tr>\n",
       "      <th>0</th>\n",
       "      <td>1</td>\n",
       "      <td>John Doe</td>\n",
       "      <td>HR</td>\n",
       "      <td>28</td>\n",
       "      <td>50000</td>\n",
       "      <td>2020-05-21</td>\n",
       "      <td>52500.0</td>\n",
       "    </tr>\n",
       "    <tr>\n",
       "      <th>1</th>\n",
       "      <td>2</td>\n",
       "      <td>Jane Smith</td>\n",
       "      <td>IT</td>\n",
       "      <td>34</td>\n",
       "      <td>75000</td>\n",
       "      <td>2019-06-12</td>\n",
       "      <td>78750.0</td>\n",
       "    </tr>\n",
       "    <tr>\n",
       "      <th>2</th>\n",
       "      <td>3</td>\n",
       "      <td>Bob Johnson</td>\n",
       "      <td>Finance</td>\n",
       "      <td>45</td>\n",
       "      <td>85000</td>\n",
       "      <td>2018-07-15</td>\n",
       "      <td>89250.0</td>\n",
       "    </tr>\n",
       "    <tr>\n",
       "      <th>3</th>\n",
       "      <td>4</td>\n",
       "      <td>Alice White</td>\n",
       "      <td>IT</td>\n",
       "      <td>29</td>\n",
       "      <td>72000</td>\n",
       "      <td>2021-01-04</td>\n",
       "      <td>75600.0</td>\n",
       "    </tr>\n",
       "    <tr>\n",
       "      <th>4</th>\n",
       "      <td>5</td>\n",
       "      <td>Charlie Brown</td>\n",
       "      <td>Marketing</td>\n",
       "      <td>32</td>\n",
       "      <td>68000</td>\n",
       "      <td>2019-11-30</td>\n",
       "      <td>71400.0</td>\n",
       "    </tr>\n",
       "    <tr>\n",
       "      <th>5</th>\n",
       "      <td>6</td>\n",
       "      <td>Eva Green</td>\n",
       "      <td>HR</td>\n",
       "      <td>41</td>\n",
       "      <td>54000</td>\n",
       "      <td>2017-04-22</td>\n",
       "      <td>56700.0</td>\n",
       "    </tr>\n",
       "    <tr>\n",
       "      <th>6</th>\n",
       "      <td>7</td>\n",
       "      <td>Mike Davis</td>\n",
       "      <td>Finance</td>\n",
       "      <td>50</td>\n",
       "      <td>90000</td>\n",
       "      <td>2016-08-19</td>\n",
       "      <td>94500.0</td>\n",
       "    </tr>\n",
       "    <tr>\n",
       "      <th>7</th>\n",
       "      <td>8</td>\n",
       "      <td>Linda Taylor</td>\n",
       "      <td>IT</td>\n",
       "      <td>26</td>\n",
       "      <td>64000</td>\n",
       "      <td>2022-02-10</td>\n",
       "      <td>67200.0</td>\n",
       "    </tr>\n",
       "    <tr>\n",
       "      <th>8</th>\n",
       "      <td>9</td>\n",
       "      <td>James Wilson</td>\n",
       "      <td>Marketing</td>\n",
       "      <td>38</td>\n",
       "      <td>70000</td>\n",
       "      <td>2020-09-08</td>\n",
       "      <td>73500.0</td>\n",
       "    </tr>\n",
       "    <tr>\n",
       "      <th>9</th>\n",
       "      <td>10</td>\n",
       "      <td>Sarah Adams</td>\n",
       "      <td>HR</td>\n",
       "      <td>30</td>\n",
       "      <td>55000</td>\n",
       "      <td>2021-03-18</td>\n",
       "      <td>57750.0</td>\n",
       "    </tr>\n",
       "  </tbody>\n",
       "</table>\n",
       "</div>"
      ],
      "text/plain": [
       "   ID           Name Department  Age  Salary Joining_Date  Increased_Salary\n",
       "0   1       John Doe         HR   28   50000   2020-05-21           52500.0\n",
       "1   2     Jane Smith         IT   34   75000   2019-06-12           78750.0\n",
       "2   3    Bob Johnson    Finance   45   85000   2018-07-15           89250.0\n",
       "3   4    Alice White         IT   29   72000   2021-01-04           75600.0\n",
       "4   5  Charlie Brown  Marketing   32   68000   2019-11-30           71400.0\n",
       "5   6      Eva Green         HR   41   54000   2017-04-22           56700.0\n",
       "6   7     Mike Davis    Finance   50   90000   2016-08-19           94500.0\n",
       "7   8   Linda Taylor         IT   26   64000   2022-02-10           67200.0\n",
       "8   9   James Wilson  Marketing   38   70000   2020-09-08           73500.0\n",
       "9  10    Sarah Adams         HR   30   55000   2021-03-18           57750.0"
      ]
     },
     "execution_count": 18,
     "metadata": {},
     "output_type": "execute_result"
    }
   ],
   "source": [
    "df"
   ]
  },
  {
   "cell_type": "code",
   "execution_count": 23,
   "id": "4b0565e7",
   "metadata": {},
   "outputs": [],
   "source": [
    "df.sort_values('Age', ascending=False, inplace=True)"
   ]
  },
  {
   "cell_type": "code",
   "execution_count": 22,
   "id": "cd469124",
   "metadata": {},
   "outputs": [
    {
     "data": {
      "text/html": [
       "<div>\n",
       "<style scoped>\n",
       "    .dataframe tbody tr th:only-of-type {\n",
       "        vertical-align: middle;\n",
       "    }\n",
       "\n",
       "    .dataframe tbody tr th {\n",
       "        vertical-align: top;\n",
       "    }\n",
       "\n",
       "    .dataframe thead th {\n",
       "        text-align: right;\n",
       "    }\n",
       "</style>\n",
       "<table border=\"1\" class=\"dataframe\">\n",
       "  <thead>\n",
       "    <tr style=\"text-align: right;\">\n",
       "      <th></th>\n",
       "      <th>ID</th>\n",
       "      <th>Name</th>\n",
       "      <th>Department</th>\n",
       "      <th>Age</th>\n",
       "      <th>Salary</th>\n",
       "      <th>Joining_Date</th>\n",
       "      <th>Increased_Salary</th>\n",
       "    </tr>\n",
       "  </thead>\n",
       "  <tbody>\n",
       "    <tr>\n",
       "      <th>6</th>\n",
       "      <td>7</td>\n",
       "      <td>Mike Davis</td>\n",
       "      <td>Finance</td>\n",
       "      <td>50</td>\n",
       "      <td>90000</td>\n",
       "      <td>2016-08-19</td>\n",
       "      <td>94500.0</td>\n",
       "    </tr>\n",
       "    <tr>\n",
       "      <th>2</th>\n",
       "      <td>3</td>\n",
       "      <td>Bob Johnson</td>\n",
       "      <td>Finance</td>\n",
       "      <td>45</td>\n",
       "      <td>85000</td>\n",
       "      <td>2018-07-15</td>\n",
       "      <td>89250.0</td>\n",
       "    </tr>\n",
       "    <tr>\n",
       "      <th>5</th>\n",
       "      <td>6</td>\n",
       "      <td>Eva Green</td>\n",
       "      <td>HR</td>\n",
       "      <td>41</td>\n",
       "      <td>54000</td>\n",
       "      <td>2017-04-22</td>\n",
       "      <td>56700.0</td>\n",
       "    </tr>\n",
       "    <tr>\n",
       "      <th>8</th>\n",
       "      <td>9</td>\n",
       "      <td>James Wilson</td>\n",
       "      <td>Marketing</td>\n",
       "      <td>38</td>\n",
       "      <td>70000</td>\n",
       "      <td>2020-09-08</td>\n",
       "      <td>73500.0</td>\n",
       "    </tr>\n",
       "    <tr>\n",
       "      <th>1</th>\n",
       "      <td>2</td>\n",
       "      <td>Jane Smith</td>\n",
       "      <td>IT</td>\n",
       "      <td>34</td>\n",
       "      <td>75000</td>\n",
       "      <td>2019-06-12</td>\n",
       "      <td>78750.0</td>\n",
       "    </tr>\n",
       "    <tr>\n",
       "      <th>4</th>\n",
       "      <td>5</td>\n",
       "      <td>Charlie Brown</td>\n",
       "      <td>Marketing</td>\n",
       "      <td>32</td>\n",
       "      <td>68000</td>\n",
       "      <td>2019-11-30</td>\n",
       "      <td>71400.0</td>\n",
       "    </tr>\n",
       "    <tr>\n",
       "      <th>9</th>\n",
       "      <td>10</td>\n",
       "      <td>Sarah Adams</td>\n",
       "      <td>HR</td>\n",
       "      <td>30</td>\n",
       "      <td>55000</td>\n",
       "      <td>2021-03-18</td>\n",
       "      <td>57750.0</td>\n",
       "    </tr>\n",
       "    <tr>\n",
       "      <th>3</th>\n",
       "      <td>4</td>\n",
       "      <td>Alice White</td>\n",
       "      <td>IT</td>\n",
       "      <td>29</td>\n",
       "      <td>72000</td>\n",
       "      <td>2021-01-04</td>\n",
       "      <td>75600.0</td>\n",
       "    </tr>\n",
       "    <tr>\n",
       "      <th>0</th>\n",
       "      <td>1</td>\n",
       "      <td>John Doe</td>\n",
       "      <td>HR</td>\n",
       "      <td>28</td>\n",
       "      <td>50000</td>\n",
       "      <td>2020-05-21</td>\n",
       "      <td>52500.0</td>\n",
       "    </tr>\n",
       "    <tr>\n",
       "      <th>7</th>\n",
       "      <td>8</td>\n",
       "      <td>Linda Taylor</td>\n",
       "      <td>IT</td>\n",
       "      <td>26</td>\n",
       "      <td>64000</td>\n",
       "      <td>2022-02-10</td>\n",
       "      <td>67200.0</td>\n",
       "    </tr>\n",
       "  </tbody>\n",
       "</table>\n",
       "</div>"
      ],
      "text/plain": [
       "   ID           Name Department  Age  Salary Joining_Date  Increased_Salary\n",
       "6   7     Mike Davis    Finance   50   90000   2016-08-19           94500.0\n",
       "2   3    Bob Johnson    Finance   45   85000   2018-07-15           89250.0\n",
       "5   6      Eva Green         HR   41   54000   2017-04-22           56700.0\n",
       "8   9   James Wilson  Marketing   38   70000   2020-09-08           73500.0\n",
       "1   2     Jane Smith         IT   34   75000   2019-06-12           78750.0\n",
       "4   5  Charlie Brown  Marketing   32   68000   2019-11-30           71400.0\n",
       "9  10    Sarah Adams         HR   30   55000   2021-03-18           57750.0\n",
       "3   4    Alice White         IT   29   72000   2021-01-04           75600.0\n",
       "0   1       John Doe         HR   28   50000   2020-05-21           52500.0\n",
       "7   8   Linda Taylor         IT   26   64000   2022-02-10           67200.0"
      ]
     },
     "execution_count": 22,
     "metadata": {},
     "output_type": "execute_result"
    }
   ],
   "source": [
    "df"
   ]
  },
  {
   "cell_type": "code",
   "execution_count": 24,
   "id": "ef57ab8d",
   "metadata": {},
   "outputs": [
    {
     "data": {
      "text/plain": [
       "Department\n",
       "HR           3\n",
       "IT           3\n",
       "Finance      2\n",
       "Marketing    2\n",
       "Name: count, dtype: int64"
      ]
     },
     "execution_count": 24,
     "metadata": {},
     "output_type": "execute_result"
    }
   ],
   "source": [
    "df.value_counts('Department')"
   ]
  },
  {
   "cell_type": "code",
   "execution_count": 25,
   "id": "f90850c8",
   "metadata": {},
   "outputs": [
    {
     "name": "stdout",
     "output_type": "stream",
     "text": [
      "   ID          Name Department  Age  Salary Joining_Date  Increased_Salary\n",
      "8   9  James Wilson  Marketing   38   70000   2020-09-08           73500.0\n",
      "9  10   Sarah Adams         HR   30   55000   2021-03-18           57750.0\n",
      "3   4   Alice White         IT   29   72000   2021-01-04           75600.0\n",
      "0   1      John Doe         HR   28   50000   2020-05-21           52500.0\n",
      "7   8  Linda Taylor         IT   26   64000   2022-02-10           67200.0\n"
     ]
    }
   ],
   "source": [
    "df['Joining_Date'] = pd.to_datetime(df['Joining_Date'])\n",
    "\n",
    "\n",
    "joined_after_2020 = df[df['Joining_Date'] > pd.Timestamp('2020-01-01')]\n",
    "\n",
    "\n",
    "print(joined_after_2020)"
   ]
  },
  {
   "cell_type": "code",
   "execution_count": 27,
   "id": "e6d7a45c",
   "metadata": {},
   "outputs": [],
   "source": [
    "joined_after_2020.to_csv(r\"D:\\University\\IMT\\Python Codes\\recent_joins.csv\", index=False)\n"
   ]
  },
  {
   "cell_type": "code",
   "execution_count": null,
   "id": "0eb950e3",
   "metadata": {},
   "outputs": [],
   "source": []
  }
 ],
 "metadata": {
  "kernelspec": {
   "display_name": "Python 3",
   "language": "python",
   "name": "python3"
  },
  "language_info": {
   "codemirror_mode": {
    "name": "ipython",
    "version": 3
   },
   "file_extension": ".py",
   "mimetype": "text/x-python",
   "name": "python",
   "nbconvert_exporter": "python",
   "pygments_lexer": "ipython3",
   "version": "3.13.2"
  }
 },
 "nbformat": 4,
 "nbformat_minor": 5
}
